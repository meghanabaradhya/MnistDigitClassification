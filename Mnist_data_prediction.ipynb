{
 "cells": [
  {
   "cell_type": "code",
   "execution_count": 2,
   "metadata": {},
   "outputs": [],
   "source": [
    "## importing data\n",
    "from keras.datasets import mnist"
   ]
  },
  {
   "cell_type": "code",
   "execution_count": 4,
   "metadata": {},
   "outputs": [],
   "source": [
    "# splitting of data\n",
    "(X_train,y_train),(X_test,y_test)=mnist.load_data()"
   ]
  },
  {
   "cell_type": "code",
   "execution_count": 11,
   "metadata": {},
   "outputs": [
    {
     "data": {
      "text/plain": [
       "<matplotlib.image.AxesImage at 0x2101f6ecb38>"
      ]
     },
     "execution_count": 11,
     "metadata": {},
     "output_type": "execute_result"
    },
    {
     "data": {
      "image/png": "[encoded data removed]",
      "text/plain": [
       "<Figure size 432x288 with 1 Axes>"
      ]
     },
     "metadata": {
      "needs_background": "light"
     },
     "output_type": "display_data"
    }
   ],
   "source": [
    "## Checking for data\n",
    "\n",
    "import matplotlib.pyplot as plt\n",
    "plt.imshow(X_train[0])"
   ]
  },
  {
   "cell_type": "code",
   "execution_count": 19,
   "metadata": {},
   "outputs": [
    {
     "data": {
      "text/plain": [
       "28"
      ]
     },
     "execution_count": 19,
     "metadata": {},
     "output_type": "execute_result"
    }
   ],
   "source": [
    "X_train[0].shape[1]"
   ]
  },
  {
   "cell_type": "code",
   "execution_count": 21,
   "metadata": {},
   "outputs": [],
   "source": [
    "## Flatten the data\n",
    "X_train=X_train.reshape(X_train.shape[0],X_train[0].shape[1]**2,1).astype('float32')"
   ]
  },
  {
   "cell_type": "code",
   "execution_count": 24,
   "metadata": {},
   "outputs": [],
   "source": [
    "X_test=X_test.reshape(X_test.shape[0],X_test[0].shape[1]**2).astype('float32')"
   ]
  },
  {
   "cell_type": "code",
   "execution_count": 26,
   "metadata": {},
   "outputs": [],
   "source": [
    "##Normalize\n",
    "X_train=X_train/255\n",
    "X_test=X_test/255"
   ]
  },
  {
   "cell_type": "code",
   "execution_count": 27,
   "metadata": {},
   "outputs": [],
   "source": [
    "from keras.models import Sequential\n",
    "from keras.layers import Dense\n",
    "from keras.layers import Dropout\n",
    "from keras.utils import np_utils\n",
    "\n",
    "\n",
    "## One hot encoding\n",
    "y_train = np_utils.to_categorical(y_train)\n",
    "y_test = np_utils.to_categorical(y_test)\n",
    "num_classes = y_test.shape[1]"
   ]
  },
  {
   "cell_type": "code",
   "execution_count": 29,
   "metadata": {},
   "outputs": [],
   "source": [
    "\n",
    "###building of model\n",
    "\n",
    "model = Sequential()\n",
    "model.add(Dense(28*28, input_dim=28*28, kernel_initializer='normal', activation='relu'))\n",
    "model.add(Dense(num_classes, kernel_initializer='normal', activation='softmax'))\n",
    "\t# Compile model\n",
    "model.compile(loss='categorical_crossentropy', optimizer='adam', metrics=['accuracy'])"
   ]
  },
  {
   "cell_type": "code",
   "execution_count": 30,
   "metadata": {},
   "outputs": [
    {
     "name": "stdout",
     "output_type": "stream",
     "text": [
      "Train on 60000 samples, validate on 10000 samples\n",
      "Epoch 1/10\n",
      " - 8s - loss: 1.5316 - accuracy: 0.6636 - val_loss: 37.6416 - val_accuracy: 0.7314\n",
      "Epoch 2/10\n",
      " - 7s - loss: 0.6148 - accuracy: 0.8511 - val_loss: 51.7040 - val_accuracy: 0.7635\n",
      "Epoch 3/10\n",
      " - 6s - loss: 0.4333 - accuracy: 0.8855 - val_loss: 57.4386 - val_accuracy: 0.7749\n",
      "Epoch 4/10\n",
      " - 7s - loss: 0.3688 - accuracy: 0.8979 - val_loss: 56.8143 - val_accuracy: 0.7931\n",
      "Epoch 5/10\n",
      " - 7s - loss: 0.3349 - accuracy: 0.9051 - val_loss: 55.0962 - val_accuracy: 0.8072\n",
      "Epoch 6/10\n",
      " - 7s - loss: 0.3149 - accuracy: 0.9101 - val_loss: 52.0234 - val_accuracy: 0.8197\n",
      "Epoch 7/10\n",
      " - 7s - loss: 0.2996 - accuracy: 0.9140 - val_loss: 47.9084 - val_accuracy: 0.8364\n",
      "Epoch 8/10\n",
      " - 7s - loss: 0.2874 - accuracy: 0.9173 - val_loss: 45.8188 - val_accuracy: 0.8445\n",
      "Epoch 9/10\n",
      " - 6s - loss: 0.2774 - accuracy: 0.9204 - val_loss: 43.9541 - val_accuracy: 0.8534\n",
      "Epoch 10/10\n",
      " - 6s - loss: 0.2679 - accuracy: 0.9231 - val_loss: 40.5088 - val_accuracy: 0.8644\n"
     ]
    },
    {
     "data": {
      "text/plain": [
       "<keras.callbacks.callbacks.History at 0x210141db748>"
      ]
     },
     "execution_count": 30,
     "metadata": {},
     "output_type": "execute_result"
    }
   ],
   "source": [
    "model.fit(X_train, y_train, validation_data=(X_test, y_test), epochs=10, batch_size=200, verbose=2)"
   ]
  },
  {
   "cell_type": "code",
   "execution_count": 35,
   "metadata": {},
   "outputs": [
    {
     "data": {
      "text/plain": [
       "(784,)"
      ]
     },
     "execution_count": 35,
     "metadata": {},
     "output_type": "execute_result"
    }
   ],
   "source": [
    "X_test[0].shape"
   ]
  },
  {
   "cell_type": "code",
   "execution_count": 40,
   "metadata": {},
   "outputs": [],
   "source": [
    "y_pred = model.predict_classes(X_test)"
   ]
  },
  {
   "cell_type": "code",
   "execution_count": 41,
   "metadata": {},
   "outputs": [],
   "source": [
    "from sklearn.metrics import classification_report,confusion_matrix\n",
    "import numpy as np"
   ]
  },
  {
   "cell_type": "code",
   "execution_count": 42,
   "metadata": {},
   "outputs": [
    {
     "name": "stdout",
     "output_type": "stream",
     "text": [
      "              precision    recall  f1-score   support\n",
      "\n",
      "           0       0.90      0.99      0.94       980\n",
      "           1       1.00      0.81      0.89      1135\n",
      "           2       0.91      0.90      0.90      1032\n",
      "           3       0.89      0.89      0.89      1010\n",
      "           4       0.96      0.85      0.90       982\n",
      "           5       1.00      0.55      0.71       892\n",
      "           6       0.95      0.92      0.94       958\n",
      "           7       0.98      0.85      0.91      1028\n",
      "           8       0.53      0.97      0.69       974\n",
      "           9       0.88      0.89      0.88      1009\n",
      "\n",
      "    accuracy                           0.86     10000\n",
      "   macro avg       0.90      0.86      0.87     10000\n",
      "weighted avg       0.90      0.86      0.87     10000\n",
      "\n",
      "[[967   0   0   1   0   0   2   1   9   0]\n",
      " [  0 921  10   3   0   0   2   1 198   0]\n",
      " [ 15   0 924  12   2   0  12   3  60   4]\n",
      " [  6   0  18 903   0   1   1   3  75   3]\n",
      " [  5   0   6   1 837   0  13   0  58  62]\n",
      " [ 26   1   4  57   5 490  13   4 287   5]\n",
      " [ 26   1   6   0   8   1 882   0  34   0]\n",
      " [  6   2  45  16   7   0   0 874  26  52]\n",
      " [  6   0   2   9   3   0   3   1 949   1]\n",
      " [ 13   0   0   9  10   0   0   2  78 897]]\n"
     ]
    }
   ],
   "source": [
    "print(classification_report(np.argmax(y_test,axis=1), y_pred))\n",
    "print(confusion_matrix(np.argmax(y_test,axis=1), y_pred))"
   ]
  },
  {
   "cell_type": "code",
   "execution_count": 43,
   "metadata": {},
   "outputs": [],
   "source": [
    "### Using cnn"
   ]
  },
  {
   "cell_type": "code",
   "execution_count": 52,
   "metadata": {},
   "outputs": [],
   "source": [
    "## Importing data and reshaping\n",
    "\n",
    "(x_train,y_train),(x_test,y_test)=mnist.load_data()\n",
    "img_rows=28;\n",
    "img_cols=28;\n",
    "x_train = x_train.reshape(x_train.shape[0], img_rows, img_cols, 1)\n",
    "x_test = x_test.reshape(x_test.shape[0], img_rows, img_cols, 1)"
   ]
  },
  {
   "cell_type": "code",
   "execution_count": 53,
   "metadata": {},
   "outputs": [],
   "source": [
    "## normalize\n",
    "input_shape = (img_rows, img_cols, 1)\n",
    "\n",
    "# change our image type to float32 data type\n",
    "x_train = x_train.astype('float32')\n",
    "x_test = x_test.astype('float32')\n",
    "\n",
    "x_train=x_train/255;\n",
    "x_test=x_test/255"
   ]
  },
  {
   "cell_type": "code",
   "execution_count": 54,
   "metadata": {},
   "outputs": [],
   "source": [
    "## one hot encoder\n",
    "\n",
    "y_train=np_utils.to_categorical(y_train)\n",
    "y_test=np_utils.to_categorical(y_test)"
   ]
  },
  {
   "cell_type": "code",
   "execution_count": 49,
   "metadata": {},
   "outputs": [],
   "source": [
    "## building of model"
   ]
  },
  {
   "cell_type": "code",
   "execution_count": 55,
   "metadata": {},
   "outputs": [],
   "source": [
    "num_classes = y_test.shape[1]\n",
    "num_pixels = x_train.shape[1] * x_train.shape[2]"
   ]
  },
  {
   "cell_type": "code",
   "execution_count": 96,
   "metadata": {},
   "outputs": [],
   "source": [
    "\n",
    "from keras.models import Sequential\n",
    "from keras.layers import Dense, Dropout, Flatten\n",
    "from keras.layers import Conv2D, MaxPooling2D\n",
    "from keras import backend as K\n",
    "\n",
    "Model=Sequential()\n",
    "Model.add(Conv2D(32,kernel_size=(3,3),activation='relu',input_shape=input_shape))\n",
    "Model.add(Conv2D(64,kernel_size=(3,3),activation='relu'))\n",
    "Model.add(MaxPooling2D(pool_size=(2,2)))\n",
    "Model.add(Dropout(0.25))\n",
    "Model.add(Flatten())\n",
    "Model.add(Dropout(0.2))\n",
    "Model.add(Dense(128, activation='relu'))\n",
    "Model.add(Dropout(0.5))\n",
    "Model.add(Dense(num_classes, activation='softmax'))\n",
    "\n"
   ]
  },
  {
   "cell_type": "code",
   "execution_count": 97,
   "metadata": {},
   "outputs": [],
   "source": [
    "import keras\n",
    "\n",
    "Model.compile(loss='categorical_crossentropy',optimizer = keras.optimizers.Adadelta(),\n",
    "              metrics = ['accuracy'])"
   ]
  },
  {
   "cell_type": "code",
   "execution_count": null,
   "metadata": {},
   "outputs": [
    {
     "name": "stdout",
     "output_type": "stream",
     "text": [
      "Train on 60000 samples, validate on 10000 samples\n",
      "Epoch 1/1\n",
      "47000/60000 [======================>.......] - ETA: 28s - loss: 0.3758 - accuracy: 0.8821"
     ]
    }
   ],
   "source": [
    "history = Model.fit(x_train, y_train,\n",
    "          batch_size=200,\n",
    "          epochs=1,\n",
    "          verbose=1,\n",
    "          validation_data=(x_test, y_test))"
   ]
  },
  {
   "cell_type": "code",
   "execution_count": 95,
   "metadata": {},
   "outputs": [
    {
     "data": {
      "text/plain": [
       "0"
      ]
     },
     "execution_count": 95,
     "metadata": {},
     "output_type": "execute_result"
    },
    {
     "data": {
      "image/png": "[encoded data removed]",
      "text/plain": [
       "<Figure size 432x288 with 1 Axes>"
      ]
     },
     "metadata": {
      "needs_background": "light"
     },
     "output_type": "display_data"
    }
   ],
   "source": [
    "##to do prediction\n",
    "img=x_test[3]\n",
    "new=img.reshape(1,28,28,1)\n",
    "plt.imshow(img)\n",
    "res=Model.predict(new);\n",
    "res.argmax()"
   ]
  },
  {
   "cell_type": "code",
   "execution_count": 88,
   "metadata": {},
   "outputs": [
    {
     "data": {
      "text/plain": [
       "(1, 10)"
      ]
     },
     "execution_count": 88,
     "metadata": {},
     "output_type": "execute_result"
    }
   ],
   "source": [
    "\n",
    "\n"
   ]
  },
  {
   "cell_type": "code",
   "execution_count": 92,
   "metadata": {},
   "outputs": [
    {
     "data": {
      "text/plain": [
       "7"
      ]
     },
     "execution_count": 92,
     "metadata": {},
     "output_type": "execute_result"
    }
   ],
   "source": []
  },
  {
   "cell_type": "code",
   "execution_count": null,
   "metadata": {},
   "outputs": [],
   "source": []
  }
 ],
 "metadata": {
  "kernelspec": {
   "display_name": "Python 3",
   "language": "python",
   "name": "python3"
  },
  "language_info": {
   "codemirror_mode": {
    "name": "ipython",
    "version": 3
   },
   "file_extension": ".py",
   "mimetype": "text/x-python",
   "name": "python",
   "nbconvert_exporter": "python",
   "pygments_lexer": "ipython3",
   "version": "3.6.10"
  }
 },
 "nbformat": 4,
 "nbformat_minor": 4
}
